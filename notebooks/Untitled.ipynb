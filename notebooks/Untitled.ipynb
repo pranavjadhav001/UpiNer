{
 "cells": [
  {
   "cell_type": "code",
   "execution_count": 24,
   "id": "e66eb867",
   "metadata": {},
   "outputs": [],
   "source": [
    "import xlrd\n",
    "import sys\n",
    "sys.path.append('..')\n",
    "import pandas as pd\n",
    "from utils import *\n",
    "from db_utils import *\n",
    "import re\n",
    "import argparse\n",
    "from IPython.display import display"
   ]
  },
  {
   "cell_type": "code",
   "execution_count": 34,
   "id": "a0964057",
   "metadata": {},
   "outputs": [],
   "source": [
    "def change_date(date_str):\n",
    "        date,month,year = date_str.split('/')\n",
    "        return '-'.join(['20'+year,month,date])\n",
    "\n",
    "def get_universal_transaction_dict(file_path):\n",
    "        workbook = xlrd.open_workbook(file_path)\n",
    "        df = pd.DataFrame(columns=['Date','Transaction Remarks','Reference Number','Value Date','Withdrawal Amount','Deposit Amount','Balance'])\n",
    "        sheet = workbook.sheet_by_index(0)\n",
    "\n",
    "        #read table starting from 22th row\n",
    "        for rx in range(22,sheet.nrows):\n",
    "            df.loc[len(df)] = [x.value for x in sheet.row(rx)]\n",
    "            if df.iloc[len(df) -1, 4] == \"\":\n",
    "                    df.iloc[len(df) -1, 4] = 0.0\n",
    "            if df.iloc[len(df) -1, 5] == \"\":\n",
    "                    df.iloc[len(df) -1, 5] = 0.0\n",
    "\n",
    "        #drop redundant column cheque no.\n",
    "        df = df.drop(['Reference Number'],axis=1)\n",
    "        # df = page_break_merge_statement(df)\n",
    "\n",
    "                #remove bottom metainfo\n",
    "        df.drop(df.tail(26).index,\n",
    "                inplace = True)\n",
    "\n",
    "        final_list = []\n",
    "        display(df.tail())\n",
    "        for index,row in df.iterrows():\n",
    "            try:\n",
    "                raw_doc = row.to_dict()\n",
    "                final_list.append({\n",
    "                    'Date': change_date(raw_doc['Value Date']),\n",
    "                    'Amount': raw_doc['Withdrawal Amount']+raw_doc['Deposit Amount'],\n",
    "                    'TransactionType': determine_transaction_type(raw_doc),\n",
    "                    'Balance':raw_doc['Balance'],\n",
    "                    'Remarks_parsed':raw_doc['Transaction Remarks'],\n",
    "                    'Remarks_raw':raw_doc['Transaction Remarks'],\n",
    "                    'source':'hdfc_bank'\n",
    "                })\n",
    "            except Exception as e:\n",
    "                print(e,raw_doc)\n",
    "        return final_list"
   ]
  },
  {
   "cell_type": "code",
   "execution_count": 35,
   "id": "56f1d329",
   "metadata": {},
   "outputs": [],
   "source": [
    "final_transaction = []"
   ]
  },
  {
   "cell_type": "code",
   "execution_count": 36,
   "id": "721fde9a",
   "metadata": {},
   "outputs": [
    {
     "data": {
      "text/html": [
       "<div>\n",
       "<style scoped>\n",
       "    .dataframe tbody tr th:only-of-type {\n",
       "        vertical-align: middle;\n",
       "    }\n",
       "\n",
       "    .dataframe tbody tr th {\n",
       "        vertical-align: top;\n",
       "    }\n",
       "\n",
       "    .dataframe thead th {\n",
       "        text-align: right;\n",
       "    }\n",
       "</style>\n",
       "<table border=\"1\" class=\"dataframe\">\n",
       "  <thead>\n",
       "    <tr style=\"text-align: right;\">\n",
       "      <th></th>\n",
       "      <th>Date</th>\n",
       "      <th>Transaction Remarks</th>\n",
       "      <th>Value Date</th>\n",
       "      <th>Withdrawal Amount</th>\n",
       "      <th>Deposit Amount</th>\n",
       "      <th>Balance</th>\n",
       "    </tr>\n",
       "  </thead>\n",
       "  <tbody>\n",
       "    <tr>\n",
       "      <th>135</th>\n",
       "      <td>28/12/22</td>\n",
       "      <td>UPI-NIRAJ AGARWAL-PAYTMQR28100505010137Y363PE1...</td>\n",
       "      <td>28/12/22</td>\n",
       "      <td>471.0</td>\n",
       "      <td>0.0</td>\n",
       "      <td>34990.74</td>\n",
       "    </tr>\n",
       "    <tr>\n",
       "      <th>136</th>\n",
       "      <td>28/12/22</td>\n",
       "      <td>UPI-RAMESH V-PAYTMQR28100505010113J0HGPP77JW@P...</td>\n",
       "      <td>28/12/22</td>\n",
       "      <td>104.0</td>\n",
       "      <td>0.0</td>\n",
       "      <td>34886.74</td>\n",
       "    </tr>\n",
       "    <tr>\n",
       "      <th>137</th>\n",
       "      <td>29/12/22</td>\n",
       "      <td>UPI-RAMESH V-PAYTMQR28100505010113J0HGPP77JW@P...</td>\n",
       "      <td>29/12/22</td>\n",
       "      <td>30.0</td>\n",
       "      <td>0.0</td>\n",
       "      <td>34856.74</td>\n",
       "    </tr>\n",
       "    <tr>\n",
       "      <th>138</th>\n",
       "      <td>29/12/22</td>\n",
       "      <td>UPI-NIRAJ AGARWAL-PAYTMQR28100505010137Y363PE1...</td>\n",
       "      <td>29/12/22</td>\n",
       "      <td>96.0</td>\n",
       "      <td>0.0</td>\n",
       "      <td>34760.74</td>\n",
       "    </tr>\n",
       "    <tr>\n",
       "      <th>139</th>\n",
       "      <td>29/12/22</td>\n",
       "      <td>UPI-PRITESH SHANTILAL KA-PRITESHKAMANI.CA@OKHD...</td>\n",
       "      <td>29/12/22</td>\n",
       "      <td>100.0</td>\n",
       "      <td>0.0</td>\n",
       "      <td>34660.74</td>\n",
       "    </tr>\n",
       "  </tbody>\n",
       "</table>\n",
       "</div>"
      ],
      "text/plain": [
       "         Date                                Transaction Remarks Value Date  \\\n",
       "135  28/12/22  UPI-NIRAJ AGARWAL-PAYTMQR28100505010137Y363PE1...   28/12/22   \n",
       "136  28/12/22  UPI-RAMESH V-PAYTMQR28100505010113J0HGPP77JW@P...   28/12/22   \n",
       "137  29/12/22  UPI-RAMESH V-PAYTMQR28100505010113J0HGPP77JW@P...   29/12/22   \n",
       "138  29/12/22  UPI-NIRAJ AGARWAL-PAYTMQR28100505010137Y363PE1...   29/12/22   \n",
       "139  29/12/22  UPI-PRITESH SHANTILAL KA-PRITESHKAMANI.CA@OKHD...   29/12/22   \n",
       "\n",
       "    Withdrawal Amount Deposit Amount   Balance  \n",
       "135             471.0            0.0  34990.74  \n",
       "136             104.0            0.0  34886.74  \n",
       "137              30.0            0.0  34856.74  \n",
       "138              96.0            0.0  34760.74  \n",
       "139             100.0            0.0  34660.74  "
      ]
     },
     "metadata": {},
     "output_type": "display_data"
    }
   ],
   "source": [
    "final_transaction.extend(get_universal_transaction_dict('../excels/hdfc_2022.xls'))\n",
    "# connection = create_connection('global_statement.db')\n",
    "# create_table_icici_statement('ALL_TRANSACTION', connection)\n",
    "# insert_many('ALL_TRANSACTION', transaction_list, connection)\n",
    "# cursor = fetch_data(connection, 'ALL_TRANSACTION')\n",
    "# for row in cursor.fetchall():\n",
    "#     print(row)\n"
   ]
  },
  {
   "cell_type": "code",
   "execution_count": 37,
   "id": "daefa0f6",
   "metadata": {},
   "outputs": [
    {
     "data": {
      "text/plain": [
       "140"
      ]
     },
     "execution_count": 37,
     "metadata": {},
     "output_type": "execute_result"
    }
   ],
   "source": [
    "len(final_transaction)"
   ]
  },
  {
   "cell_type": "code",
   "execution_count": 47,
   "id": "24d4dbe3",
   "metadata": {},
   "outputs": [],
   "source": [
    "final_transaction_remarks = [i['Remarks_raw'] for i in final_transaction]"
   ]
  },
  {
   "cell_type": "code",
   "execution_count": 48,
   "id": "1984af41",
   "metadata": {},
   "outputs": [
    {
     "data": {
      "text/plain": [
       "140"
      ]
     },
     "execution_count": 48,
     "metadata": {},
     "output_type": "execute_result"
    }
   ],
   "source": [
    "len(final_transaction_remarks)"
   ]
  },
  {
   "cell_type": "code",
   "execution_count": 49,
   "id": "e01f407b",
   "metadata": {},
   "outputs": [],
   "source": [
    "unique_remarks = list(set(final_transaction_remarks))"
   ]
  },
  {
   "cell_type": "code",
   "execution_count": 50,
   "id": "ebdc8c13",
   "metadata": {
    "scrolled": true
   },
   "outputs": [
    {
     "name": "stdout",
     "output_type": "stream",
     "text": [
      "POS 419188XXXXXX5234 SWIGGY INSTAMART\n",
      "POS 419188XXXXXX5234 BHP*ROKLAS ENTER\n",
      "POS 419188XXXXXX5234 TRIAKSHAAENTERPR\n",
      "POS 419188XXXXXX5234 PVR LIMITED\n",
      "POS 419188XXXXXX5234 NOVOTEL KOCHI IN\n",
      "POS 419188XXXXXX5234 LULU INTERNATION\n",
      "POS 419188XXXXXX5234 NAGARJUNA ANDHRA\n",
      "POS 419188XXXXXX5234 ANNA VILAAS\n",
      "POS 419188XXXXXX5234 PUTHOORAM BEACH\n",
      "POS 419188XXXXXX5234 HM COM\n",
      "POS 419188XXXXXX5234 SWIGGY\n",
      "POS 419188XXXXXX5234 TW COFFEE  HSR 2\n",
      "CREDIT INTEREST CAPITALISED\n",
      "POS 419188XXXXXX5234 CRAFT TREE\n",
      "POS 419188XXXXXX5234 CHIRAG HOSPITAL,\n",
      "POS 419188XXXXXX5234 PAUL MURICKEN\n",
      "POS 419188XXXXXX5234 KASHI ART CAFE\n",
      "POS 419188XXXXXX5234 VENKATESWARA AND\n",
      "POS 419188XXXXXX5234 TATA STARBUCKS P\n",
      "PRIN AND INT AUTO_REDEEM 50300580397399\n",
      "POS 419188XXXXXX5234 THE BOMBAY STORE\n"
     ]
    }
   ],
   "source": [
    "clean_remarks = []\n",
    "for i in unique_remarks:\n",
    "    if '-' not in i:\n",
    "        print(i)\n",
    "    else:\n",
    "        clean_remarks.append(i)"
   ]
  },
  {
   "cell_type": "code",
   "execution_count": 52,
   "id": "2ca6cf90",
   "metadata": {},
   "outputs": [],
   "source": [
    "final = []\n",
    "for i in clean_remarks:\n",
    "    final_str = ''\n",
    "    sub_str = i.split('-')\n",
    "    sub_str = [re.sub(r\"\\s+\", '', j) for j in sub_str]\n",
    "    final_str = '  '.join(sub_str)\n",
    "    final.append(final_str)"
   ]
  },
  {
   "cell_type": "code",
   "execution_count": 51,
   "id": "e658d47e",
   "metadata": {},
   "outputs": [
    {
     "data": {
      "text/plain": [
       "['UPI-SWIGGYINSTAMART-SWIGGYINSTAMART@YESPAY-YESB0YESUPI-230820373302-PAY FOR MERCHANT',\n",
       " 'UPI-UBER INDIA SYSTEMS P-UBERRIDES@HDFCBANK-HDFC0000499-230952239188-UBERRIDE',\n",
       " 'UPI-RAMESH V-PAYTMQR28100505010113J0HGPP77JW@PAYTM-PYTM0123456-231909855741-VEGETABLE',\n",
       " 'UPI-HENNES N MAURITZ-HENNESNMAURITZ.76042179@HDFCBANK-HDFC0004809-231999894639-COLLECT',\n",
       " 'UPI-UBER INDIA SYSTEMS P-UBERRIDES@HDFCBANK-HDFC0000499-234535110695-UBERRIDE',\n",
       " 'UPI-DIPENDRA KUMAR TAPAR-DIPUKESAR@OKHDFCBANK-INDB0000008-228636676494-PRANAV',\n",
       " 'UPI-SWIGGYINSTAMART-SWIGGYINSTAMART@YESPAY-YESB0YESUPI-234024514063-PAY FOR MERCHANT',\n",
       " 'UPI-SWIGGY-SWIGGYSTORES@ICICI-ICIC0DC0099-231884842367-UPI',\n",
       " 'UPI-MEDWORLD BENGALURU-GPAY-11214189068@OKBIZAXIS-UTIB0000000-236109785173-MEDWALL',\n",
       " 'UPI-SWIGGY-SWIGGYSTORES@ICICI-ICIC0DC0099-232797792965-UPI',\n",
       " 'UPI-BHARATPEMERCHANT-BHARATPE.9041922461@ICICI-ICIC0DC0099-231909594978-VERIFIED MERCHANT',\n",
       " 'UPI-SWIGGY-SWIGGY@YESPAY-YESB0YESUPI-232439479286-PAY FOR MERCHANT',\n",
       " 'UPI-GIRBAN DEB-GIRBANDEB@OKICICI-UJVN0001122-233901282049-UPI',\n",
       " 'UPI-SWIGGY-SWIGGY.STORES@AXISBANK-UTIB0000100-228517452303-SWIGGY ORDER ID 14',\n",
       " 'UPI-UBER INDIA SYSTEMS P-UBERRIDES@HDFCBANK-HDFC0000499-235205754068-UBERRIDE',\n",
       " 'UPI-ZIVA VENTURES-Q637116872@YBL-YESB0YBLUPI-231514266132-HAIRCUT',\n",
       " 'UPI-SWIGGY-SWIGGY.STORES@AXISBANK-UTIB0000100-236221271413-SWIGGY ORDER ID 15',\n",
       " 'UPI-DRY FRUIT HOUSE-PAYTM-72735614@PAYTM-PYTM0123456-232950608112-UPI',\n",
       " 'UPI-RASOII GHAR-RASOIIGHAR@ICICI-ICIC0DC0099-235456666654-SAMOSA',\n",
       " 'UPI-SWIGGY-SWIGGYUPI@AXISBANK-UTIB0000000-235971949854-SWIGGY ORDER ID 15',\n",
       " 'UPI-SWIGGY-SWIGGY@YESPAY-YESB0YESUPI-233571919798-PAY FOR MERCHANT',\n",
       " 'UPI-CANVAS RESTAURANT  P-PAYTMQR28100505010112K1F7I27V3E@PAYTM-PYTM0123456-227971118995-CANVAS',\n",
       " 'UPI-NABARUN SAHA-NABARUN.SAHA@OKHDFCBANK-HDFC0000004-236198586811-FOOTBALL',\n",
       " 'UPI-MADHU KUMARA-MADHUSOURHEA@OKHDFCBANK-FDRL0001104-231082622839-FOOTBALL',\n",
       " 'UPI-SWIGGY-SWIGGY@YESPAY-YESB0YESUPI-235200065524-PAY FOR MERCHANT',\n",
       " 'UPI-NUTRABAY-NUTRABAY.RZP@HDFCBANK-HDFC0000053-233343565129-NUTRABAYORDER74215',\n",
       " 'UPI-GIRBAN DEB-GIRBANDEB@OKICICI-UJVN0001122-230822451324-SALARY',\n",
       " 'UPI-SWIGGY-SWIGGY@YESPAY-YESB0YESUPI-232797855732-PAY FOR MERCHANT',\n",
       " 'UPI-SWIGGYINSTAMART-SWIGGYINSTAMART@YESPAY-YESB0YESUPI-232829707189-PAY FOR MERCHANT',\n",
       " 'UPI-GROFERS INDIA PRIVAT-GROFERSINDIAPRI29.RZP@ICICI-ICIC0DC0099-231516298737-GROFERSINDIAPRIVAT',\n",
       " 'UPI-KARAN MENEZES-KARANSM88-1@OKICICI-HDFC0000076-232790371768-PRANAV FOOTBALL',\n",
       " 'UPI-XXXXXX1148-SBIN0005159-233901262749-UPI',\n",
       " 'UPI-SWIGGY-SWIGGYSTORES@ICICI-ICIC0DC0099-235965726739-UPI',\n",
       " 'UPI-BHARATH  KUMAR-BHARATPE90724535024@YESBANKLTD-YESB0YESUPI-232159356241-PAY TO BHARATPE ME',\n",
       " 'UPI-SWIGGY-UPISWIGGY@ICICI-ICIC0DC0099-232426954916-UPI',\n",
       " 'UPI-NIRAJ AGARWAL-PAYTMQR28100505010137Y363PE17H3@PAYTM-PYTM0123456-236348058710-MIRCHI',\n",
       " 'UPI-K V K MEDICALS-PAYTMQR281005050101E5YNGSLCPVGC@PAYTM-PYTM0123456-232276497591-LOTION',\n",
       " 'UPI-SWIGGY-SWIGGYUPI@AXISBANK-UTIB0000000-235293490463-SWIGGY ORDER ID 15',\n",
       " 'UPI-PAPPU CHAIWALA-PAYTMQR281005050101FS4ZX4LVGW1V@PAYTM-PYTM0123456-232707158895-PAPPU',\n",
       " 'UPI-SWIGGY-SWIGGY@YESPAY-YESB0YESUPI-233623147325-PAY FOR MERCHANT',\n",
       " 'UPI-SWIGGY-SWIGGY@YESPAY-YESB0YESUPI-231228442503-PAY FOR MERCHANT',\n",
       " 'NWD-419188XXXXXX5234-0417BY01-BANGALORE',\n",
       " 'UPI-BHAGAT SINGH-UDTAPUNJABI@YBL-HDFC0001048-234409809410-RENT',\n",
       " 'UPI-PANKAJ HANMANT PATIL-PANKAJPATIL.MAILBOX@OKSBI-SBIN0015664-233597197886-SETTLED',\n",
       " 'UPI-PARVEEZ AHMAD MALL-CAFEDELMARVARKALA@OKSBI-BKID0008594-227722650293-CAFE DEL MAR',\n",
       " 'UPI-NIRAJ AGARWAL-PAYTMQR28100505010137Y363PE17H3@PAYTM-PYTM0123456-235456530874-AYOKA',\n",
       " 'UPI-XXXXXX1148-SBIN0005159-230826846086-SALARY',\n",
       " 'UPI-SWIGGY-UPISWIGGY@ICICI-ICIC0DC0099-233467565211-UPI',\n",
       " 'UPI-ITSY BITSY  HSR LAYO-Q05118111@YBL-YESB0YBLUPI-235722204236-UPI',\n",
       " 'UPI-SWIGGY-SWIGGYSTORES@ICICI-ICIC0DC0099-235171230901-UPI',\n",
       " 'UPI-SWIGGY-UPISWIGGY@ICICI-ICIC0DC0099-235970722841-UPI',\n",
       " 'UPI-MEDWORLD BENGALURU-GPAY-11214189068@OKBIZAXIS-UTIB0000000-234819285652-SNICKERS',\n",
       " 'UPI-SWIGGYINSTAMART-SWIGGYINSTAMART@YESPAY-YESB0YESUPI-231237341893-PAY FOR MERCHANT',\n",
       " 'UPI-DODDAPPA-9980676338@YBL-HDFC0009196-235325092786-LOTION',\n",
       " 'UPI-SWIGGYINSTAMART-SWIGGYINSTAMART@YESPAY-YESB0YESUPI-230823766443-PAY FOR MERCHANT',\n",
       " 'UPI-VIDYARTHI BHAVAN-PAYTMQR2810050501011R7W75SSJA0L@PAYTM-PYTM0123456-232421373620-VIDYARTHI BHAVAN',\n",
       " 'UPI-SUB KO COFFEE PRIVAT-SUBKOCOFFEEROAS15.RZP@ICICI-ICIC0DC0099-230719962002-SUBKOCOFFEEROASTER',\n",
       " 'UPI-PMCBP7-PMCBP7.41946620@HDFCBANK-HDFC0000001-233184922962-UPI',\n",
       " 'UPI-IN STICKER-GPAY-11187194033@OKBIZAXIS-UTIB0000000-234272720441-PLATE',\n",
       " 'UPI-PAPPU CHAIWALA-PAYTMQR281005050101FS4ZX4LVGW1V@PAYTM-PYTM0123456-234700734116-CHAIWALA',\n",
       " 'UPI-SWIGGY-SWIGGYSTORES@ICICI-ICIC0DC0099-232393823802-VEGGIES',\n",
       " 'UPI-PRANAV JADHAV-PRANAVJADHAV001@OKICICI-ICIC0006291-230505078681-NOV SPENDING',\n",
       " 'UPI-GROFERS INDIA PRIVAT-GROFERSINDIAPRIVATELIMITED.RZP@SBI-SBIN0016209-232431336993-GROFERSINDIAPRIVAT',\n",
       " 'UPI-NIRAJ AGARWAL-PAYTMQR28100505010137Y363PE17H3@PAYTM-PYTM0123456-236233928714-AYOKA',\n",
       " 'UPI-XXXXXX3853-HDFC0000025-234407064833-UPI',\n",
       " 'UPI-MR RANJAN MISHRA-MISHRA.RANJAN5-1@OKAXIS-SCBL0036046-232426742473-PRANAV FOOTBALL',\n",
       " 'UPI-SWIGGY-UPISWIGGY@ICICI-ICIC0DC0099-228131246830-UPI',\n",
       " 'UPI-DAN GEORGE IDICULLA-DANG475@OKAXIS-FDRL0001042-235170776388-PLAYO',\n",
       " 'UPI-BLUE TOKAI COFFEE RO-PAYTMQR281005050101PLOCBII82DFK@PAYTM-PYTM0123456-235056578489-THW',\n",
       " 'UPI-SWIGGY-SWIGGYSTORES@ICICI-ICIC0DC0099-234824156301-UPI',\n",
       " 'UPI-DAN GEORGE IDICULLA-DANG475@OKAXIS-FDRL0001042-233182153922-PLAYO',\n",
       " 'UPI-PRITESH SHANTILAL KA-PRITESHKAMANI.CA@OKHDFCBANK-HDFC0000361-236348271079-FOOTBALL',\n",
       " 'UPI-SWIGGY-SWIGGYSTORES@ICICI-ICIC0DC0099-233449345332-UPI',\n",
       " 'UPI-SACHIN-Q15615199@YBL-SBIN0041092-232419556083-COFFEE',\n",
       " 'UPI-SWIGGY-SWIGGY@YESPAY-YESB0YESUPI-234813322402-PAY FOR MERCHANT',\n",
       " 'UPI-APNACOMPLEX-APNACOMPLEX.PAYU@ICICI-ICIC0DC0099-235711067904-UPI TRANSACTION FO',\n",
       " 'UPI-VIKAS  C M-CMVIKAS94@OKHDFCBANK-SBIN0010411-235713712434-SATTVAM',\n",
       " 'UPI-AMAN MISHRA-AMAN07MISHRA-3@OKHDFCBANK-HDFC0002729-233454638296-EVERYTHING',\n",
       " 'UPI-SWIGGY-SWIGGYUPI@AXISBANK-UTIB0000000-233196464980-SWIGGY ORDER ID 15',\n",
       " 'UPI-SWIGGY-UPISWIGGY@ICICI-ICIC0DC0099-231092592817-BIRYANI',\n",
       " 'UPI-OSSOOR COFFEE-BHARATPE.90060527202@FBPE-FDRL0001382-233731136852-PAY TO BHARATPE ME',\n",
       " 'DEBIT CARD ANNUAL FEE-NOV-2022 271122-MIR2334001876607',\n",
       " 'UPI-HARD ROCK CAFE BENGA-Q16202020@YBL-YESB0YBLUPI-235208747331-UPI',\n",
       " 'UPI-SWIGGY-SWIGGY.STORES@AXISBANK-UTIB0000100-233060886803-SWIGGY ORDER ID 15',\n",
       " 'UPI-AVETIKYAN HOTELS PVT-7025029862@OKBIZAXIS-UTIB0000000-227727880089-INDA CAFE',\n",
       " 'UPI-PRANAV JADHAV-PRANAVJADHAV001@OKICICI-NA-227311085361-CHECK',\n",
       " 'UPI-PAYU PAYMENTS PRIVAT-PAYUMONEY.PAYU@INDUS-INDB0002201-231750119821-UPI',\n",
       " 'UPI-SWIGGY-SWIGGY@YESPAY-YESB0YESUPI-228242496378-PAY FOR MERCHANT',\n",
       " 'UPI-PANKAJ HANMANT PATIL-PANKAJPATIL.MAILBOX@OKSBI-SBIN0015664-231759078246-SPLITWISE CLEAR',\n",
       " 'UPI-ZIVA VENTURES-Q637116872@YBL-YESB0YBLUPI-235176604957-HAIRCUT',\n",
       " 'UPI-CHIRAG HOSPITAL-Q23380769@YBL-YESB0YBLUPI-232274278337-CHARMA',\n",
       " 'UPI-MOBIKWIK-OMBK.LBFAABT73792@ICICI-ICIC0DC0099-228003832120-CHAAT',\n",
       " 'UPI-SWIGGY-UPISWIGGY@ICICI-ICIC0DC0099-231117336749-UPI',\n",
       " 'UPI-M AND M KITCHEN-PAYTMQR281005050101TV2B89529YBU@PAYTM-PYTM0123456-231751506445-IDC',\n",
       " 'UPI-BALARAM  SO TEJARAM-BALARAM.SATE@OKAXIS-SBIN0032245-231224875687-CARPENTER',\n",
       " 'UPI-DUNZO-CFDUNZO@ICICI-ICIC0DC0099-231904796862-DUNZO ORDER',\n",
       " 'UPI-KARAN MENEZES-KARANSM88-1@OKICICI-HDFC0000076-232146386891-PRANAV',\n",
       " 'UPI-SWIGGY-SWIGGY@YESPAY-YESB0YESUPI-231076865898-PAY FOR MERCHANT',\n",
       " 'UPI-RAMESH V-PAYTMQR28100505010113J0HGPP77JW@PAYTM-PYTM0123456-236112685064-GROCERIES',\n",
       " 'UPI-MANOHARA M-PAYTMQR2810050501011X1R8NSJQII9@PAYTM-PYTM0123456-235698309306-COFFEE',\n",
       " 'UPI-SWIGGY-SWIGGY.STORES@AXISBANK-UTIB0000100-228359105220-SWIGGY ORDER ID 14',\n",
       " 'UPI-TRIAKSHAA ENTERPRISE-PAYTM-9177@PAYTM-PYTM0123456-234276259907-PETROL',\n",
       " 'UPI-UBER INDIA SYSTEMS P-UBERRIDES@HDFCBANK-HDFC0000499-235848266416-UBERRIDE',\n",
       " 'UPI-SWIGGY-SWIGGY.STORES@AXISBANK-UTIB0000100-228235756180-SWIGGY ORDER ID 14',\n",
       " 'UPI-SWIGGY-SWIGGY@YESPAY-YESB0YESUPI-233185938240-PAY FOR MERCHANT',\n",
       " 'UPI-ITSY BITSY  HSR LAYO-Q05118111@YBL-YESB0YBLUPI-235722197540-ITSY',\n",
       " 'UPI-PRANAV JADHAV-PRANAVJADHAV001@OKICICI-ICIC0006291-233938105201-DEC',\n",
       " 'UPI-ZOMATO LTD-ZOMATO-ORDER@PAYTM-PYTM0123456-234671103110-ZOMATO PAYMENT',\n",
       " 'UPI-SWIGGY-SWIGGY@YESPAY-YESB0YESUPI-228754597586-PAY FOR MERCHANT',\n",
       " 'UPI-SONY PICTURES NETWOR-SONYPICTURESNETWORKSINDIA.RZP@AXISBANK-UTIB0000100-230694811795-UPI INTENT',\n",
       " 'UPI-HONEYCOMB RETAIL IND-BHARATPE907720048888@YESBANKLTD-YESB0YESUPI-236195672534-PAY TO HONEYCOMB R',\n",
       " 'UPI-SWIGGY-SWIGGY@YESPAY-YESB0YESUPI-232276566345-PAY FOR MERCHANT',\n",
       " 'UPI-UBER INDIA SYSTEMS P-UBERRIDES@HDFCBANK-HDFC0000499-233976746156-UBERRIDE',\n",
       " 'UPI-RAMESH V-PAYTMQR28100505010113J0HGPP77JW@PAYTM-PYTM0123456-236234417194-GROCERIES',\n",
       " 'UPI-RAMESH V-PAYTMQR28100505010113J0HGPP77JW@PAYTM-PYTM0123456-236347921101-ONION',\n",
       " 'UPI-GIRBAN DEB-GIRBANDEB@OKICICI-UJVN0001122-234011485054-EXTRA']"
      ]
     },
     "execution_count": 51,
     "metadata": {},
     "output_type": "execute_result"
    }
   ],
   "source": [
    "clean_remarks"
   ]
  },
  {
   "cell_type": "code",
   "execution_count": 53,
   "id": "0592704d",
   "metadata": {},
   "outputs": [],
   "source": [
    "with open('../datasets/hdfc_2022.txt','w') as f:\n",
    "    for i in final:\n",
    "        f.write(i+'\\n')"
   ]
  },
  {
   "cell_type": "code",
   "execution_count": null,
   "id": "e1af1289",
   "metadata": {},
   "outputs": [],
   "source": []
  }
 ],
 "metadata": {
  "kernelspec": {
   "display_name": "Python 3 (ipykernel)",
   "language": "python",
   "name": "python3"
  },
  "language_info": {
   "codemirror_mode": {
    "name": "ipython",
    "version": 3
   },
   "file_extension": ".py",
   "mimetype": "text/x-python",
   "name": "python",
   "nbconvert_exporter": "python",
   "pygments_lexer": "ipython3",
   "version": "3.8.10"
  }
 },
 "nbformat": 4,
 "nbformat_minor": 5
}
