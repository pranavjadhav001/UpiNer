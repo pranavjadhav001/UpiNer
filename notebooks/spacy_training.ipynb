{
 "cells": [
  {
   "cell_type": "code",
   "execution_count": 1,
   "id": "e48671de",
   "metadata": {},
   "outputs": [],
   "source": [
    "import spacy\n",
    "import random\n",
    "import os\n",
    "import spacy\n",
    "from spacy.tokens import DocBin\n",
    "from tqdm import tqdm\n",
    "import json"
   ]
  },
  {
   "cell_type": "code",
   "execution_count": 2,
   "id": "8ae03bbb",
   "metadata": {},
   "outputs": [],
   "source": [
    "anno1 = json.load(open('annotations.json',))\n",
    "anno2 = json.load(open('annotations2.json',))\n",
    "anno3 = json.load(open('annotations3.json',))"
   ]
  },
  {
   "cell_type": "code",
   "execution_count": 3,
   "id": "43a9dc14",
   "metadata": {},
   "outputs": [],
   "source": [
    "doc_bin = DocBin() # create a DocBin object"
   ]
  },
  {
   "cell_type": "code",
   "execution_count": 3,
   "id": "b29b5da5",
   "metadata": {},
   "outputs": [],
   "source": [
    "all_annotations = []\n",
    "all_annotations.extend(anno1['annotations'])\n",
    "all_annotations.extend(anno2['annotations'])\n",
    "all_annotations.extend(anno3['annotations'])"
   ]
  },
  {
   "cell_type": "code",
   "execution_count": 5,
   "id": "d7af95c5",
   "metadata": {},
   "outputs": [
    {
     "data": {
      "text/plain": [
       "['MPS  MORE  202004141732  917316  BANGALORE',\n",
       " {'entities': [[0, 3, 'TYPE'],\n",
       "   [5, 9, 'ID'],\n",
       "   [11, 23, 'UTR'],\n",
       "   [25, 31, 'UTR']]}]"
      ]
     },
     "execution_count": 5,
     "metadata": {},
     "output_type": "execute_result"
    }
   ],
   "source": [
    "all_annotations[1]"
   ]
  },
  {
   "cell_type": "code",
   "execution_count": 28,
   "id": "a1012ee3",
   "metadata": {},
   "outputs": [
    {
     "name": "stderr",
     "output_type": "stream",
     "text": [
      "100%|███████████████████████████████████████████████████████████████████████████████████████████████████| 200/200 [00:00<00:00, 6600.63it/s]"
     ]
    },
    {
     "name": "stdout",
     "output_type": "stream",
     "text": [
      "Skipping entity\n",
      "Skipping entity\n",
      "Skipping entity\n",
      "Skipping entity\n",
      "Skipping entity\n",
      "Skipping entity\n"
     ]
    },
    {
     "name": "stderr",
     "output_type": "stream",
     "text": [
      "\n"
     ]
    }
   ],
   "source": [
    "from spacy.util import filter_spans\n",
    "\n",
    "for training_example  in tqdm(all_annotations[:200]): \n",
    "    text = training_example[0]\n",
    "    labels = training_example[1]['entities']\n",
    "    doc = nlp.make_doc(text) \n",
    "    ents = []\n",
    "    for start, end, label in labels:\n",
    "        span = doc.char_span(start, end, label=label, alignment_mode=\"contract\")\n",
    "        if span is None:\n",
    "            print(\"Skipping entity\")\n",
    "        else:\n",
    "            ents.append(span)\n",
    "    filtered_ents = filter_spans(ents)\n",
    "    doc.ents = filtered_ents \n",
    "    doc_bin.add(doc)\n",
    "\n",
    "doc_bin.to_disk(\"training_data.spacy\") # save the docbin object"
   ]
  },
  {
   "cell_type": "code",
   "execution_count": 37,
   "id": "9b0a4999",
   "metadata": {},
   "outputs": [
    {
     "name": "stdout",
     "output_type": "stream",
     "text": [
      "\u001b[38;5;2m✔ Auto-filled config with all values\u001b[0m\r\n",
      "\u001b[38;5;2m✔ Saved config\u001b[0m\r\n",
      "config.cfg\r\n",
      "You can now add your data and train your pipeline:\r\n",
      "python -m spacy train config.cfg --paths.train ./train.spacy --paths.dev ./dev.spacy\r\n"
     ]
    }
   ],
   "source": [
    "!python3 -m spacy init fill-config base_config.cfg config.cfg"
   ]
  },
  {
   "cell_type": "code",
   "execution_count": 38,
   "id": "61d3b35d",
   "metadata": {
    "scrolled": true
   },
   "outputs": [
    {
     "name": "stdout",
     "output_type": "stream",
     "text": [
      "\u001b[38;5;4mℹ Saving to output directory: .\u001b[0m\n",
      "\u001b[38;5;4mℹ Using CPU\u001b[0m\n",
      "\u001b[1m\n",
      "=========================== Initializing pipeline ===========================\u001b[0m\n",
      "[2022-12-28 13:23:47,856] [INFO] Set up nlp object from config\n",
      "[2022-12-28 13:23:47,861] [INFO] Pipeline: ['tok2vec', 'parser', 'ner', 'tagger']\n",
      "[2022-12-28 13:23:47,863] [INFO] Created vocabulary\n",
      "Traceback (most recent call last):\n",
      "  File \"/home/pranav/UPI_ner/ner/lib/python3.8/site-packages/spacy/language.py\", line 1301, in initialize\n",
      "    init_vocab(\n",
      "  File \"/home/pranav/UPI_ner/ner/lib/python3.8/site-packages/spacy/training/initialize.py\", line 131, in init_vocab\n",
      "    load_vectors_into_model(nlp, vectors)\n",
      "  File \"/home/pranav/UPI_ner/ner/lib/python3.8/site-packages/spacy/training/initialize.py\", line 152, in load_vectors_into_model\n",
      "    vectors_nlp = load_model(name, vocab=nlp.vocab, exclude=exclude)\n",
      "  File \"/home/pranav/UPI_ner/ner/lib/python3.8/site-packages/spacy/util.py\", line 439, in load_model\n",
      "    raise IOError(Errors.E050.format(name=name))\n",
      "OSError: [E050] Can't find model 'en_core_web_lg'. It doesn't seem to be a Python package or a valid path to a data directory.\n",
      "\n",
      "During handling of the above exception, another exception occurred:\n",
      "\n",
      "Traceback (most recent call last):\n",
      "  File \"/usr/lib/python3.8/runpy.py\", line 194, in _run_module_as_main\n",
      "    return _run_code(code, main_globals, None,\n",
      "  File \"/usr/lib/python3.8/runpy.py\", line 87, in _run_code\n",
      "    exec(code, run_globals)\n",
      "  File \"/home/pranav/UPI_ner/ner/lib/python3.8/site-packages/spacy/__main__.py\", line 4, in <module>\n",
      "    setup_cli()\n",
      "  File \"/home/pranav/UPI_ner/ner/lib/python3.8/site-packages/spacy/cli/_util.py\", line 71, in setup_cli\n",
      "    command(prog_name=COMMAND)\n",
      "  File \"/home/pranav/UPI_ner/ner/lib/python3.8/site-packages/click/core.py\", line 1130, in __call__\n",
      "    return self.main(*args, **kwargs)\n",
      "  File \"/home/pranav/UPI_ner/ner/lib/python3.8/site-packages/typer/core.py\", line 778, in main\n",
      "    return _main(\n",
      "  File \"/home/pranav/UPI_ner/ner/lib/python3.8/site-packages/typer/core.py\", line 216, in _main\n",
      "    rv = self.invoke(ctx)\n",
      "  File \"/home/pranav/UPI_ner/ner/lib/python3.8/site-packages/click/core.py\", line 1657, in invoke\n",
      "    return _process_result(sub_ctx.command.invoke(sub_ctx))\n",
      "  File \"/home/pranav/UPI_ner/ner/lib/python3.8/site-packages/click/core.py\", line 1404, in invoke\n",
      "    return ctx.invoke(self.callback, **ctx.params)\n",
      "  File \"/home/pranav/UPI_ner/ner/lib/python3.8/site-packages/click/core.py\", line 760, in invoke\n",
      "    return __callback(*args, **kwargs)\n",
      "  File \"/home/pranav/UPI_ner/ner/lib/python3.8/site-packages/typer/main.py\", line 683, in wrapper\n",
      "    return callback(**use_params)  # type: ignore\n",
      "  File \"/home/pranav/UPI_ner/ner/lib/python3.8/site-packages/spacy/cli/train.py\", line 45, in train_cli\n",
      "    train(config_path, output_path, use_gpu=use_gpu, overrides=overrides)\n",
      "  File \"/home/pranav/UPI_ner/ner/lib/python3.8/site-packages/spacy/cli/train.py\", line 72, in train\n",
      "    nlp = init_nlp(config, use_gpu=use_gpu)\n",
      "  File \"/home/pranav/UPI_ner/ner/lib/python3.8/site-packages/spacy/training/initialize.py\", line 84, in init_nlp\n",
      "    nlp.initialize(lambda: train_corpus(nlp), sgd=optimizer)\n",
      "  File \"/home/pranav/UPI_ner/ner/lib/python3.8/site-packages/spacy/language.py\", line 1305, in initialize\n",
      "    raise IOError(Errors.E884.format(vectors=I[\"vectors\"]))\n",
      "OSError: [E884] The pipeline could not be initialized because the vectors could not be found at 'en_core_web_lg'. If your pipeline was already initialized/trained before, call 'resume_training' instead of 'initialize', or initialize only the components that are new.\n"
     ]
    }
   ],
   "source": [
    "!python3 -m spacy train config.cfg --output ./ --paths.train ./training_data.spacy --paths.dev ./training_data.spacy"
   ]
  },
  {
   "cell_type": "code",
   "execution_count": null,
   "id": "9a0ec55d",
   "metadata": {},
   "outputs": [],
   "source": [
    "nlp_ner = spacy.load(\"experiment_14-01-23/model-last\")\n",
    "\n",
    "doc = nlp_ner(all_annotations[:200][4][0])\n",
    "\n",
    "colors = {\"PATHOGEN\": \"#F67DE3\", \"MEDICINE\": \"#7DF6D9\", \"MEDICALCONDITION\":\"#FFFFFF\"}\n",
    "options = {\"colors\": colors} \n",
    "\n",
    "spacy.displacy.render(doc, style=\"ent\", options= options, jupyter=True)"
   ]
  },
  {
   "cell_type": "code",
   "execution_count": 11,
   "id": "5490475f",
   "metadata": {},
   "outputs": [
    {
     "data": {
      "text/html": [
       "<span class=\"tex2jax_ignore\"><div class=\"entities\" style=\"line-height: 2.5; direction: ltr\">\n",
       "<mark class=\"entity\" style=\"background: #ddd; padding: 0.45em 0.6em; margin: 0 0.25em; line-height: 1; border-radius: 0.35em;\">\n",
       "    upi\n",
       "    <span style=\"font-size: 0.8em; font-weight: bold; line-height: 1; border-radius: 0.35em; vertical-align: middle; margin-left: 0.5rem\">TYPE</span>\n",
       "</mark>\n",
       " \n",
       "<mark class=\"entity\" style=\"background: #ddd; padding: 0.45em 0.6em; margin: 0 0.25em; line-height: 1; border-radius: 0.35em;\">\n",
       "    sony\n",
       "    <span style=\"font-size: 0.8em; font-weight: bold; line-height: 1; border-radius: 0.35em; vertical-align: middle; margin-left: 0.5rem\">REMARK</span>\n",
       "</mark>\n",
       " \n",
       "<mark class=\"entity\" style=\"background: #ddd; padding: 0.45em 0.6em; margin: 0 0.25em; line-height: 1; border-radius: 0.35em;\">\n",
       "    pictures\n",
       "    <span style=\"font-size: 0.8em; font-weight: bold; line-height: 1; border-radius: 0.35em; vertical-align: middle; margin-left: 0.5rem\">REMARK</span>\n",
       "</mark>\n",
       " \n",
       "<mark class=\"entity\" style=\"background: #ddd; padding: 0.45em 0.6em; margin: 0 0.25em; line-height: 1; border-radius: 0.35em;\">\n",
       "    networ\n",
       "    <span style=\"font-size: 0.8em; font-weight: bold; line-height: 1; border-radius: 0.35em; vertical-align: middle; margin-left: 0.5rem\">REMARK</span>\n",
       "</mark>\n",
       " \n",
       "<mark class=\"entity\" style=\"background: #ddd; padding: 0.45em 0.6em; margin: 0 0.25em; line-height: 1; border-radius: 0.35em;\">\n",
       "    sonypicturesnetworksindia.rzp@axisbank\n",
       "    <span style=\"font-size: 0.8em; font-weight: bold; line-height: 1; border-radius: 0.35em; vertical-align: middle; margin-left: 0.5rem\">ID</span>\n",
       "</mark>\n",
       " \n",
       "<mark class=\"entity\" style=\"background: #ddd; padding: 0.45em 0.6em; margin: 0 0.25em; line-height: 1; border-radius: 0.35em;\">\n",
       "    utib0000100\n",
       "    <span style=\"font-size: 0.8em; font-weight: bold; line-height: 1; border-radius: 0.35em; vertical-align: middle; margin-left: 0.5rem\">ID</span>\n",
       "</mark>\n",
       " \n",
       "<mark class=\"entity\" style=\"background: #ddd; padding: 0.45em 0.6em; margin: 0 0.25em; line-height: 1; border-radius: 0.35em;\">\n",
       "    230694811795\n",
       "    <span style=\"font-size: 0.8em; font-weight: bold; line-height: 1; border-radius: 0.35em; vertical-align: middle; margin-left: 0.5rem\">UTR</span>\n",
       "</mark>\n",
       " upi intent</div></span>"
      ],
      "text/plain": [
       "<IPython.core.display.HTML object>"
      ]
     },
     "metadata": {},
     "output_type": "display_data"
    }
   ],
   "source": [
    "#for j in all_annotations[:200]:\n",
    "doc = nlp_ner('UPI-SONY PICTURES NETWOR-SONYPICTURESNETWORKSINDIA.RZP@AXISBANK-UTIB0000100-230694811795-UPI INTENT'.lower().replace('-',' '))\n",
    "colors = {\"PATHOGEN\": \"#F67DE3\", \"MEDICINE\": \"#7DF6D9\", \"MEDICALCONDITION\":\"#FFFFFF\"}\n",
    "options = {\"colors\": colors} \n",
    "spacy.displacy.render(doc, style=\"ent\", options= options, jupyter=True)"
   ]
  },
  {
   "cell_type": "code",
   "execution_count": 8,
   "id": "e61e54c9",
   "metadata": {},
   "outputs": [
    {
     "name": "stdout",
     "output_type": "stream",
     "text": [
      "[('UPI', 'TYPE'), ('134717243602', 'UTR'), ('UPI', 'TYPE'), ('aman07mishra', 'ID'), ('StateBankOfI', 'BANK')] | [('UPI', 'TYPE'), ('134717243602', 'UTR'), ('UPI', 'TYPE'), ('StateBankOfI', 'BANK')]\n",
      "--------------------------------------------------\n",
      "[('MPS', 'TYPE'), ('MORE', 'ID'), ('201912151759  387876', 'UTR')] | [('MPS', 'TYPE'), ('MORE', 'ID'), ('201912151759', 'REMARK'), ('387876', 'REMARK')]\n",
      "--------------------------------------------------\n",
      "[('UPI', 'TYPE'), ('110519236732', 'UTR'), ('UberRide', 'REMARK'), ('uberrides@hdfcb', 'ID')] | [('UPI', 'TYPE'), ('110519236732', 'UTR'), ('UberRide', 'REMARK'), ('uberrides@hdfcb', 'ID'), ('HDFCBAN', 'BANK')]\n",
      "--------------------------------------------------\n",
      "[('UPI', 'TYPE'), ('035008466313', 'UTR'), ('UPI', 'TYPE'), ('paytmqr28100505', 'ID'), ('PaytmPayment', 'REMARK')] | [('UPI', 'TYPE'), ('035008466313', 'UTR'), ('UPI', 'TYPE'), ('paytmqr28100505', 'ID'), ('PaytmPayment', 'BANK')]\n",
      "--------------------------------------------------\n",
      "[('UPI', 'TYPE'), ('224499799199', 'UTR'), ('Refundforyour', 'REMARK'), ('amazon.refunds', 'ID'), ('AxisBankLtd.', 'BANK')] | [('UPI', 'TYPE'), ('224499799199', 'UTR'), ('Refundforyour', 'REMARK'), ('AxisBankLtd.', 'BANK')]\n",
      "--------------------------------------------------\n",
      "[('UPI', 'TYPE'), ('033437207923', 'UTR'), ('Oid12289232477', 'ID')] | [('UPI', 'TYPE'), ('033437207923', 'UTR')]\n",
      "--------------------------------------------------\n",
      "[('UPI', 'TYPE'), ('034708366917', 'UTR'), ('UPI', 'TYPE'), ('paytmqr28100505', 'ID')] | [('UPI', 'TYPE'), ('034708366917', 'UTR'), ('UPI', 'TYPE'), ('paytmqr28100505', 'ID'), ('PaytmPayment', 'BANK')]\n",
      "--------------------------------------------------\n",
      "[('UPI', 'TYPE'), ('020501403738', 'UTR'), ('UPITransaction', 'REMARK'), ('payumoney.payu', 'ID')] | [('UPI', 'TYPE'), ('020501403738', 'UTR'), ('UPITransaction', 'REMARK')]\n",
      "--------------------------------------------------\n",
      "[('UPI', 'TYPE'), ('931322571792', 'UTR'), ('UPI', 'TYPE'), ('peeyush.tek-1@', 'ID'), ('KotakMahindr', 'BANK')] | [('UPI', 'TYPE'), ('931322571792', 'UTR'), ('UPI', 'TYPE'), ('KotakMahindr', 'BANK')]\n",
      "--------------------------------------------------\n",
      "[('UPI', 'TYPE'), ('033437212140', 'UTR'), ('Oid23881380', 'REMARK'), ('nearbuygroup@pa', 'ID')] | [('UPI', 'TYPE'), ('033437212140', 'UTR'), ('nearbuygroup@pa', 'ID')]\n",
      "--------------------------------------------------\n",
      "[('UPI', 'TYPE'), ('203433045255', 'UTR'), ('Oid100003187720', 'REMARK'), ('paytm-irctctick', 'ID'), ('PaytmPayments', 'BANK')] | [('UPI', 'TYPE'), ('203433045255', 'UTR'), ('Oid100003187720', 'REMARK'), ('paytm', 'ID'), ('-', 'ID'), ('irctctick', 'ID')]\n",
      "--------------------------------------------------\n",
      "[('UPI', 'TYPE'), ('210657187895', 'UTR'), ('ArakuOriginalsP', 'ID'), ('ICICIBank', 'BANK')] | [('UPI', 'TYPE'), ('210657187895', 'UTR'), ('ArakuOriginalsP', 'REMARK'), ('razorpay@icici', 'ID'), ('ICICIBank', 'BANK')]\n",
      "--------------------------------------------------\n",
      "[('UPI', 'TYPE'), ('105918150353', 'UTR'), ('VerifiedMercha', 'REMARK'), ('bharatpe9030025', 'ID')] | [('UPI', 'TYPE'), ('105918150353', 'UTR'), ('bharatpe9030025', 'ID')]\n",
      "--------------------------------------------------\n",
      "[('UPI', 'TYPE'), ('120207544570', 'UTR'), ('VerifiedMercha', 'REMARK'), ('bharatpe.905169', 'ID'), ('FederalBank', 'BANK')] | [('UPI', 'TYPE'), ('120207544570', 'UTR'), ('bharatpe.905169', 'ID'), ('FederalBank', 'BANK')]\n",
      "--------------------------------------------------\n",
      "[('UPI', 'TYPE'), ('130546572592', 'UTR'), ('Oid202111011502', 'REMARK'), ('paytm-60393855@  PaytmPayments', 'ID')] | [('UPI', 'TYPE'), ('130546572592', 'UTR'), ('Oid202111011502', 'REMARK'), ('paytm-60393855@', 'ID')]\n",
      "--------------------------------------------------\n",
      "[('UPI', 'TYPE'), ('100217991053', 'UTR'), ('POSInitiatedT', 'REMARK'), ('ckk09136@hsbc', 'ID')] | [('UPI', 'TYPE'), ('100217991053', 'UTR'), ('POSInitiatedT', 'REMARK'), ('ckk09136@hsbc', 'ID'), ('HSB', 'BANK')]\n",
      "--------------------------------------------------\n",
      "[('UPI', 'TYPE'), ('006272962811', 'UTR'), ('Oid10459457122', 'REMARK'), ('add-money@paytm', 'ID')] | [('UPI', 'TYPE'), ('006272962811', 'UTR')]\n",
      "--------------------------------------------------\n",
      "[('CAM', 'TYPE'), ('CASHDEP', 'ID')] | [('CAM', 'TYPE'), ('CASHDEP', 'REMARK')]\n",
      "--------------------------------------------------\n",
      "[('UPI', 'TYPE'), ('109911028849', 'UTR'), ('UPI', 'TYPE'), ('DUMMYNAME', 'ID'), ('StandardCharte', 'BANK')] | [('UPI', 'TYPE'), ('109911028849', 'UTR'), ('UPI', 'TYPE'), ('DUMMYNAME', 'REMARK'), ('StandardCharte', 'ID')]\n",
      "--------------------------------------------------\n",
      "[('UPI', 'TYPE'), ('210868004053', 'UTR'), ('UPIPayment-Goa', 'REMARK'), ('phenomenal@icic', 'ID'), ('ICICIBank', 'BANK')] | [('UPI', 'TYPE'), ('210868004053', 'UTR'), ('UPIPayment', 'REMARK'), ('-', 'ID'), ('Goa', 'ID'), ('phenomenal@icic', 'ID'), ('ICICIBank', 'BANK')]\n",
      "--------------------------------------------------\n",
      "[('UPI', 'TYPE'), ('014914822163', 'UTR'), ('Youarepaying', 'REMARK'), ('amazon@apl', 'ID')] | [('UPI', 'TYPE'), ('014914822163', 'UTR'), ('Youarepaying', 'REMARK'), ('amazon@apl', 'ID'), ('AxisBa', 'BANK')]\n",
      "--------------------------------------------------\n",
      "[('MMT', 'ID'), ('IMPS', 'TYPE'), ('222710982457', 'UTR'), ('transferIndweal', 'REMARK')] | [('MMT', 'TYPE'), ('IMPS', 'BANK'), ('222710982457', 'UTR'), ('transferIndweal', 'REMARK'), ('CASHFREEP', 'ID')]\n",
      "--------------------------------------------------\n",
      "[('UPI', 'TYPE'), ('125487330740', 'UTR'), ('PaymentfromPh', 'REMARK'), ('paytmqr28100505', 'ID'), ('PaytmPayments', 'BANK')] | [('UPI', 'TYPE'), ('125487330740', 'UTR'), ('PaymentfromPh', 'REMARK'), ('paytmqr28100505', 'ID')]\n",
      "--------------------------------------------------\n",
      "[('UPI', 'TYPE'), ('133339763303', 'UTR'), ('UPI', 'TYPE'), ('supragya.jadhav', 'ID'), ('StandardCharte', 'BANK')] | [('UPI', 'TYPE'), ('133339763303', 'UTR'), ('UPI', 'TYPE'), ('supragya.jadhav', 'ID'), ('StandardCharte', 'ID')]\n",
      "--------------------------------------------------\n",
      "[('UPI', 'TYPE'), ('221191829109', 'UTR'), ('toll', 'REMARK'), ('paytm-61700081@  PaytmPayments', 'ID')] | [('UPI', 'TYPE'), ('221191829109', 'UTR'), ('toll', 'REMARK'), ('paytm-61700081@', 'ID')]\n",
      "--------------------------------------------------\n",
      "[('UPI', 'TYPE'), ('225912474459', 'UTR'), ('auto', 'REMARK'), ('asifpasha06431@  FederalBank', 'ID')] | [('UPI', 'TYPE'), ('225912474459', 'UTR'), ('auto', 'REMARK'), ('asifpasha06431@', 'ID'), ('FederalBank', 'BANK')]\n",
      "--------------------------------------------------\n",
      "[('UPI', 'TYPE'), ('213395226307', 'UTR'), ('petrol', 'REMARK'), ('paytmqr28100505', 'ID'), ('PaytmPayments', 'BANK')] | [('UPI', 'TYPE'), ('213395226307', 'UTR'), ('petrol', 'REMARK'), ('paytmqr28100505', 'ID')]\n",
      "--------------------------------------------------\n",
      "[('UPI', 'TYPE'), ('018121279856', 'UTR'), ('UPI', 'TYPE'), ('upiswiggy@icici', 'REMARK'), ('ICICIBank', 'BANK')] | [('UPI', 'TYPE'), ('018121279856', 'UTR'), ('UPI', 'TYPE'), ('upiswiggy@icici', 'ID'), ('ICICIBank', 'BANK')]\n",
      "--------------------------------------------------\n",
      "[('UPI', 'TYPE'), ('005689171292', 'UTR'), ('VerifiedMercha', 'REMARK'), ('BHARATPE9020028', 'ID')] | [('UPI', 'TYPE'), ('005689171292', 'UTR'), ('BHARATPE9020028', 'ID')]\n",
      "--------------------------------------------------\n",
      "[('BIL', 'TYPE'), ('000011500698', 'UTR'), ('ICICIBANKCREDITCA', 'ID')] | [('BIL', 'TYPE'), ('000011500698', 'UTR'), ('ICICIBANKCREDITCA', 'BANK')]\n",
      "--------------------------------------------------\n",
      "[('UPI', 'TYPE'), ('222761178162', 'UTR'), ('chaat', 'REMARK'), ('paytmqr28100505', 'ID'), ('PaytmPayments', 'BANK')] | [('UPI', 'TYPE'), ('222761178162', 'UTR'), ('chaat', 'REMARK'), ('paytmqr28100505', 'ID')]\n",
      "--------------------------------------------------\n",
      "[('UPI', 'TYPE'), ('224012961137', 'UTR'), ('PaymentfromPh', 'REMARK'), ('vilpredel@paytm', 'ID'), ('PaytmPayments', 'BANK')] | [('UPI', 'TYPE'), ('224012961137', 'UTR'), ('PaymentfromPh', 'REMARK'), ('vilpredel@paytm', 'ID')]\n",
      "--------------------------------------------------\n",
      "[('UPI', 'TYPE'), ('228247532091', 'UTR'), ('UPI', 'TYPE'), ('HDFCBANKLTD', 'BANK')] | [('UPI', 'TYPE'), ('228247532091', 'UTR'), ('UPI', 'TYPE'), ('DUMMYNAME', 'ID'), ('HDFCBANKLTD', 'BANK')]\n",
      "--------------------------------------------------\n",
      "[('UPI', 'TYPE'), ('218729959638', 'UTR'), ('UPI', 'TYPE'), ('paytm-14643250', 'ID'), ('PaytmPayments', 'BANK')] | [('UPI', 'TYPE'), ('218729959638', 'UTR'), ('UPI', 'TYPE'), ('paytm-14643250@', 'ID'), ('PaytmPayments', 'BANK')]\n",
      "--------------------------------------------------\n",
      "[('UPI', 'TYPE'), ('214824949986', 'UTR'), ('UPI', 'TYPE'), ('paytm-67597945@  PaytmPayments', 'ID')] | [('UPI', 'TYPE'), ('214824949986', 'UTR'), ('UPI', 'TYPE'), ('paytm-67597945@', 'ID'), ('PaytmPayments', 'BANK')]\n",
      "--------------------------------------------------\n"
     ]
    },
    {
     "name": "stdout",
     "output_type": "stream",
     "text": [
      "[('INF', 'TYPE'), ('INFT', 'TYPE'), ('60471000002G', 'UTR'), ('SalaryForJun', 'REMARK'), ('ABEERESEARC', 'ID')] | [('INF', 'TYPE'), ('INFT', 'TYPE'), ('60471000002', 'UTR'), ('G', 'REMARK'), ('SalaryForJun', 'REMARK'), ('ABEERESEARC', 'ID')]\n",
      "--------------------------------------------------\n",
      "[('UPI', 'TYPE'), ('012254058522', 'UTR'), ('PaymentfromPh', 'REMARK'), ('Q56128298@ybl', 'ID')] | [('UPI', 'TYPE'), ('012254058522', 'UTR'), ('PaymentfromPh', 'REMARK'), ('Q56128298@ybl', 'ID'), ('HDF', 'BANK')]\n",
      "--------------------------------------------------\n",
      "[('UPI', 'TYPE'), ('214911384559', 'UTR'), ('Momrecharge', 'REMARK'), ('vilpredel@paytm', 'ID'), ('PaytmPayments', 'BANK')] | [('UPI', 'TYPE'), ('214911384559', 'UTR'), ('Momrecharge', 'REMARK'), ('vilpredel@paytm', 'ID')]\n",
      "--------------------------------------------------\n",
      "[('UPI', 'TYPE'), ('920022831320', 'UTR'), ('UPI', 'TYPE'), ('q75503461@ybl', 'ID'), ('AxisBankLtd', 'BANK')] | [('UPI', 'TYPE'), ('920022831320', 'UTR'), ('UPI', 'TYPE'), ('q75503461@ybl', 'ID'), ('AxisBankLtd.', 'BANK')]\n",
      "--------------------------------------------------\n",
      "[('BIL', 'TYPE'), ('ONL', 'TYPE'), ('NovaGamin', 'ID')] | [('BIL', 'TYPE'), ('002137242230', 'UTR'), ('NovaGamin', 'ID')]\n",
      "--------------------------------------------------\n",
      "[('UPI', 'TYPE'), ('111018019765', 'UTR'), ('UPI', 'TYPE'), ('paytmqr28100505', 'ID'), ('PaytmPayment', 'BANK')] | [('UPI', 'TYPE'), ('111018019765', 'UTR'), ('UPI', 'TYPE'), ('paytmqr28100505', 'ID')]\n",
      "--------------------------------------------------\n",
      "[('UPI', 'TYPE'), ('033814389231', 'UTR'), ('Oid100002470897', 'REMARK'), ('paytm-irctc@pay', 'ID')] | [('UPI', 'TYPE'), ('033814389231', 'UTR'), ('Oid100002470897', 'REMARK')]\n",
      "--------------------------------------------------\n",
      "[('IPS', 'TYPE'), ('ESSEXFARMS', 'ID'), ('202210301423', 'UTR')] | [('IPS', 'TYPE'), ('ESSEXFARMS', 'ID')]\n",
      "--------------------------------------------------\n",
      "[('INF', 'TYPE'), ('INFT', 'TYPE'), ('026175111271', 'UTR'), ('ABEERESEARCHL', 'ID')] | [('INF', 'TYPE'), ('INFT', 'TYPE'), ('ABEERESEARCHL', 'ID')]\n",
      "--------------------------------------------------\n",
      "[('UPI', 'TYPE'), ('929448370256', 'UTR'), ('Paymentforcat', 'REMARK'), ('EURONET@ybl', 'ID')] | [('UPI', 'TYPE'), ('929448370256', 'UTR'), ('Paymentforcat', 'REMARK'), ('EURONET@ybl', 'ID'), ('YesB', 'BANK')]\n",
      "--------------------------------------------------\n",
      "[('MPS', 'TYPE'), ('SUBWAYFORU', 'ID'), ('202003081325', 'UTR')] | [('MPS', 'TYPE'), ('SUBWAYFORU', 'ID')]\n",
      "--------------------------------------------------\n",
      "[('MPS', 'TYPE'), ('NILGIRIS', 'ID'), ('202003231855', 'UTR')] | [('MPS', 'TYPE'), ('NILGIRIS', 'ID')]\n",
      "--------------------------------------------------\n",
      "[('INF', 'TYPE'), ('INFT', 'TYPE'), ('64401000003G', 'UTR'), ('SalarySep21', 'REMARK'), ('ABEERESEARC', 'ID')] | [('INF', 'TYPE'), ('INFT', 'TYPE'), ('64401000003', 'UTR'), ('SalarySep21', 'REMARK'), ('ABEERESEARC', 'ID')]\n",
      "--------------------------------------------------\n",
      "[('UPI', 'TYPE'), ('229015806203', 'UTR'), ('UpiTransaction', 'REMARK'), ('airtel66.payu@i  ICICIBank', 'ID')] | [('UPI', 'TYPE'), ('229015806203', 'UTR'), ('UpiTransaction', 'REMARK'), ('airtel66.payu@i', 'ID'), ('ICICIBank', 'BANK')]\n",
      "--------------------------------------------------\n",
      "[('MIN', 'TYPE'), ('AdidasIndi', 'ID'), ('202203171250', 'UTR')] | [('MIN', 'REMARK'), ('AdidasIndi', 'ID')]\n",
      "--------------------------------------------------\n",
      "[('MIN', 'TYPE'), ('AdidasIndi', 'ID'), ('202110182053', 'UTR')] | [('MIN', 'TYPE'), ('AdidasIndi', 'ID')]\n",
      "--------------------------------------------------\n",
      "[('UPI', 'TYPE'), ('034501379012', 'UTR'), ('UPI', 'TYPE'), ('hitkmr89@okhdfc', 'ID')] | [('UPI', 'TYPE'), ('034501379012', 'UTR'), ('UPI', 'TYPE'), ('hitkmr89@okhdfc', 'ID'), ('SyndicateBan', 'BANK')]\n",
      "--------------------------------------------------\n",
      "[('MIN', 'TYPE'), ('ONE97COMMU', 'ID')] | [('MIN', 'REMARK'), ('ONE97COMMU', 'ID')]\n",
      "--------------------------------------------------\n",
      "[('UPI', 'TYPE'), ('112602744846', 'UTR'), ('PaymentfromPh', 'REMARK'), ('bulu0991@ybl', 'ID')] | [('UPI', 'TYPE'), ('112602744846', 'UTR'), ('PaymentfromPh', 'REMARK'), ('bulu0991@ybl', 'ID'), ('Bank', 'BANK')]\n",
      "--------------------------------------------------\n",
      "[('IIN', 'TYPE'), ('UBERINDIA', 'ID')] | [('IIN', 'REMARK'), ('I', 'ID'), ('-', 'ID'), ('Debit', 'ID'), ('UBERINDIA', 'ID')]\n",
      "--------------------------------------------------\n",
      "[('UPI', 'TYPE'), ('222267848930', 'UTR'), ('VerifiedMercha', 'REMARK'), ('bharatpe.904192', 'ID'), ('ICICIBank', 'BANK')] | [('UPI', 'TYPE'), ('222267848930', 'UTR'), ('bharatpe.904192', 'ID'), ('ICICIBank', 'BANK')]\n",
      "--------------------------------------------------\n",
      "[('IIN', 'TYPE'), ('FLIPKARTPA', 'ID'), ('202008121319', 'UTR')] | [('IIN', 'REMARK'), ('FLIPKARTPA', 'ID')]\n",
      "--------------------------------------------------\n",
      "[('BIL', 'TYPE'), ('000161546390', 'UTR'), ('NearbuyIn', 'ID')] | [('BIL', 'TYPE'), ('000161546390', 'UTR'), ('NearbuyIn', 'ID'), ('202107161842503', 'UTR')]\n",
      "--------------------------------------------------\n",
      "[('UPI', 'TYPE'), ('001414300682', 'UTR'), ('Ticket', 'REMARK'), ('anilkumar.as-1@  HDFCBANK', 'ID')] | [('UPI', 'TYPE'), ('001414300682', 'UTR'), ('Ticket', 'REMARK'), ('anilkumar.as-1@', 'ID'), ('HDFCBANK', 'BANK')]\n",
      "--------------------------------------------------\n",
      "[('UPI', 'TYPE'), ('212885700960', 'UTR'), ('aayoka', 'REMARK'), ('paytmqr28100505', 'ID'), ('PaytmPayments', 'BANK')] | [('UPI', 'TYPE'), ('212885700960', 'UTR'), ('aayoka', 'REMARK'), ('paytmqr28100505', 'ID')]\n",
      "--------------------------------------------------\n",
      "[('MIN', 'TYPE'), ('RetailCC', 'ID')] | [('MIN', 'TYPE')]\n",
      "--------------------------------------------------\n"
     ]
    }
   ],
   "source": [
    "for index in range(len(all_annotations)):\n",
    "    text,entity = all_annotations[index] \n",
    "    doc = nlp_ner(all_annotations[index][0])\n",
    "    prediction = [(ent.text, ent.label_) for ent in doc.ents]\n",
    "    final_entitites = []\n",
    "    for i in entity['entities']:\n",
    "        final_entitites.append(convert_to_tuple(text,i))\n",
    "    if final_entitites != prediction:\n",
    "        print(final_entitites,'|',prediction)\n",
    "        print('-'*50)"
   ]
  },
  {
   "cell_type": "code",
   "execution_count": 6,
   "id": "d450c696",
   "metadata": {},
   "outputs": [],
   "source": [
    "def convert_to_tuple(text,entity):\n",
    "    #print(text,entity)\n",
    "    start,end,typer = entity\n",
    "    return (text[start:end],typer)"
   ]
  },
  {
   "cell_type": "code",
   "execution_count": 9,
   "id": "c59752b8",
   "metadata": {},
   "outputs": [
    {
     "data": {
      "text/plain": [
       "[('UPI', 'TYPE'),\n",
       " ('035810194943', 'UTR'),\n",
       " ('CollectRequest', 'REMARK'),\n",
       " ('vedix@abfspay', 'ID')]"
      ]
     },
     "execution_count": 9,
     "metadata": {},
     "output_type": "execute_result"
    }
   ],
   "source": [
    "final_entitites"
   ]
  },
  {
   "cell_type": "code",
   "execution_count": null,
   "id": "e0cec7bc",
   "metadata": {},
   "outputs": [],
   "source": []
  }
 ],
 "metadata": {
  "kernelspec": {
   "display_name": "Python 3 (ipykernel)",
   "language": "python",
   "name": "python3"
  },
  "language_info": {
   "codemirror_mode": {
    "name": "ipython",
    "version": 3
   },
   "file_extension": ".py",
   "mimetype": "text/x-python",
   "name": "python",
   "nbconvert_exporter": "python",
   "pygments_lexer": "ipython3",
   "version": "3.8.10"
  }
 },
 "nbformat": 4,
 "nbformat_minor": 5
}
